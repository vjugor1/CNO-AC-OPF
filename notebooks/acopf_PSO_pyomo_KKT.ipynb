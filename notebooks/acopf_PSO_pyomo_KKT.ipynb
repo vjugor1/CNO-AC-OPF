{
 "cells": [
  {
   "cell_type": "code",
   "execution_count": 1,
   "metadata": {},
   "outputs": [],
   "source": [
    "from pyomo.environ import *\n",
    "from torchswarm.functions import Function\n",
    "import numpy as np\n",
    "import os\n",
    "import sys\n",
    "import pandas as pd\n",
    "import pandapower as pp\n",
    "import torch\n",
    "from matplotlib import pyplot as plt\n",
    "import pandapower.networks as pn\n",
    "import time\n",
    "from scipy import sparse\n",
    "from copy import deepcopy\n",
    "sys.path.append('..')\n",
    "import src.data_processing.power_parser as parser\n",
    "from src.model.acopf_pyomo import spawn_ac_opf_model, get_params_for_model\n",
    "from src.model.cno import *\n",
    "from torchswarm.utils.parameters import SwarmParameters\n",
    "import warnings\n",
    "warnings.filterwarnings('ignore')\n",
    "import logging\n",
    "\n",
    "logging.getLogger('pyomo.core').setLevel(logging.ERROR)\n",
    "\n",
    "#PYOMO HAS DIFFEQ???????????"
   ]
  },
  {
   "cell_type": "code",
   "execution_count": 2,
   "metadata": {},
   "outputs": [],
   "source": [
    "net = pn.case30()\n",
    "net[\"load\"]['p_mw'] = net[\"load\"]['p_mw'] * 0.9\n",
    "net[\"load\"]['q_mvar'] = net[\"load\"]['q_mvar']\n",
    "net[\"gen\"]['max_p_mw'] = net[\"gen\"]['max_p_mw'] * 2\n",
    "net[\"gen\"]['max_q_mvar'] = net[\"gen\"]['max_q_mvar'] * 2\n",
    "net[\"ext_grid\"]['max_p_mw'] = net[\"ext_grid\"]['max_p_mw'] \n",
    "net[\"ext_grid\"]['max_q_mvar'] = net[\"ext_grid\"]['max_q_mvar']\n",
    "net[\"poly_cost\"][\"cp2_eur_per_mw2\"] = net[\"poly_cost\"][\"cp2_eur_per_mw2\"] * 0\n",
    "net, bs, S, G, B, n_gens, n_buses, n_branches, gen_idxs, bus_idxs, branch_idxs = get_params_for_model(net)\n",
    "S = 2 * S"
   ]
  },
  {
   "cell_type": "code",
   "execution_count": 3,
   "metadata": {},
   "outputs": [
    {
     "name": "stdout",
     "output_type": "stream",
     "text": [
      "WARNING: DEPRECATED: The 'ignore_integrality' argument no longer has any\n",
      "    functionality.  (deprecated in 6.4.2) (called from\n",
      "    /Users/aleks/opt/anaconda3/envs/cno_acopf/lib/python3.10/site-\n",
      "    packages/pyomo/contrib/mindtpy/initialization.py:155)\n"
     ]
    }
   ],
   "source": [
    "def spawn_foo():\n",
    "    return spawn_ac_opf_model(net, bs, S, G, B, n_gens, n_buses, n_branches, gen_idxs, bus_idxs, branch_idxs)\n",
    "sample_model = spawn_foo()\n",
    "solver = SolverFactory('mindtpy')\n",
    "nvars = sum(1 for v in sample_model.component_data_objects(Var))\n",
    "criterion = ObjectiveCNO(sample_model)\n",
    "empso = SwarmOptimizerCNOPyomo(nvars, 5, swarm_optimizer_type=\"exponentially_weighted\", max_iterations=10, init_model=spawn_foo, solver=solver)\n",
    "# for i in range(len(empso.swarm)):\n",
    "#     empso.swarm[i].position = x0 + torch.randn_like(x0) * 1e-2\n",
    "empso.optimize(criterion)"
   ]
  },
  {
   "cell_type": "code",
   "execution_count": 4,
   "metadata": {},
   "outputs": [
    {
     "name": "stdout",
     "output_type": "stream",
     "text": [
      "Iteration 1 >> global best fitness 229.817  | iteration time 5.447\n",
      "Iteration 2 >> global best fitness 229.515  | iteration time 4.393\n",
      "Iteration 3 >> global best fitness 229.515  | iteration time 4.510\n",
      "Iteration 4 >> global best fitness 229.515  | iteration time 4.228\n",
      "Iteration 5 >> global best fitness 229.515  | iteration time 4.137\n",
      "Iteration 6 >> global best fitness 229.515  | iteration time 4.238\n",
      "Iteration 7 >> global best fitness 229.515  | iteration time 4.288\n",
      "Iteration 8 >> global best fitness 229.515  | iteration time 4.115\n",
      "Iteration 9 >> global best fitness 229.515  | iteration time 4.100\n",
      "Iteration 10 >> global best fitness 229.515  | iteration time 4.114\n",
      "{'r1': 0.4534424841403961, 'r2': 0.4304801821708679, 'gbest_position': tensor([ 1.0000e+00,  1.0000e+00,  1.0000e+00,  1.0000e+00,  1.0000e+00,\n",
      "         1.0000e+00,  1.0353e+00,  1.0373e+00,  1.0238e+00,  1.0217e+00,\n",
      "         1.0231e+00,  1.0168e+00,  1.0107e+00,  1.0047e+00,  1.0280e+00,\n",
      "         1.0341e+00,  1.0280e+00,  1.0325e+00,  1.0673e+00,  1.0220e+00,\n",
      "         1.0248e+00,  1.0268e+00,  1.0273e+00,  1.0169e+00,  1.0151e+00,\n",
      "         1.0189e+00,  1.0500e+00,  1.0587e+00,  1.0328e+00,  1.0318e+00,\n",
      "         1.0300e+00,  1.0136e+00,  1.0384e+00,  1.0161e+00,  1.0203e+00,\n",
      "         1.0100e+00, -1.1653e-27,  5.3659e-03, -1.5497e-02, -1.8010e-02,\n",
      "        -1.4801e-02, -2.0016e-02, -2.5649e-02, -2.7335e-02,  3.2840e-03,\n",
      "         1.5283e-02,  3.2840e-03, -3.9115e-02, -3.9115e-02, -4.4675e-02,\n",
      "        -3.8593e-02, -2.0247e-02,  1.7609e-03, -3.0597e-02, -2.2938e-02,\n",
      "        -1.4098e-02,  3.5316e-02,  4.2615e-02, -2.8752e-02, -9.2711e-04,\n",
      "        -3.4682e-02, -4.0640e-02, -5.1738e-02, -2.5749e-02, -7.0322e-02,\n",
      "        -8.3394e-02,  7.4009e+01,  1.0000e+02, -8.2492e-09, -7.9085e-09,\n",
      "        -7.9028e-09,  3.3757e-10,  2.2938e+01,  2.6859e+01,  1.6013e+01,\n",
      "         7.5605e+00,  2.6498e+01,  1.0031e+00,  9.6680e+00, -9.6004e+00,\n",
      "        -9.6506e+00, -1.5845e+01, -1.1749e+01, -1.6807e+01,  9.6506e+00,\n",
      "        -7.4339e+00,  1.5997e+01,  7.4404e+00, -7.8594e+00, -8.5626e+00,\n",
      "         1.1824e+01, -1.1668e+01,  1.6990e+01,  7.8762e+00, -8.8525e+00,\n",
      "        -2.4681e+01,  1.1596e+01,  6.6264e+00, -9.1922e+00,  1.1749e+01,\n",
      "         8.8809e+00,  2.4798e+01,  2.3370e+00, -1.1596e+01,  1.1596e+01,\n",
      "         0.0000e+00, -6.6264e+00, -1.1596e+01, -1.8608e+01, -1.5052e+01,\n",
      "         3.4981e+01,  2.3137e+01,  1.0834e-26,  8.5626e+00, -7.9028e-09,\n",
      "        -3.4280e+00, -2.1996e+00,  7.2616e+00,  7.9028e-09,  3.4489e+00,\n",
      "         2.1636e+00,  2.2187e+00, -2.1520e+00,  1.5742e+00,  5.8265e+00,\n",
      "        -7.1849e+00,  1.0508e+01,  1.8707e+01, -1.0412e+01, -1.5508e+00,\n",
      "         4.4730e+00, -4.4542e+00,  1.3072e+01,  1.5249e+01, -1.3023e+01,\n",
      "        -3.4625e+01,  5.1002e+01, -2.2774e+01, -5.0731e+01, -2.5144e+01,\n",
      "        -5.7932e+00,  8.8261e+00,  2.5861e+01, -8.7065e+00, -8.3293e+00,\n",
      "         8.4883e+00, -3.1500e+00, -5.0673e+00,  3.1870e+00,  5.1422e+00,\n",
      "         6.8552e+00, -5.4689e+00, -6.2571e+00,  9.2094e+00, -2.3188e+00,\n",
      "        -6.8552e+00,  5.5368e+00, -3.2829e+00,  6.3857e+00,  3.3089e+00,\n",
      "        -1.4231e+00, -4.6787e+00, -1.7465e+00, -4.6526e+00, -5.2403e+00,\n",
      "        -6.8429e+00,  2.7496e+00, -3.4529e+00,  2.9629e+00,  3.4787e+00,\n",
      "        -1.0595e+01,  4.3823e+00,  3.4149e+00, -6.0781e+00,  5.2838e+00,\n",
      "         1.0662e+01, -4.8219e+00, -2.3960e+01,  5.6491e+00,  3.3270e+00,\n",
      "         1.5218e+00,  5.2403e+00,  3.8702e+00,  2.4429e+01,  4.0590e+00,\n",
      "        -5.3184e+00,  5.8222e+00,  0.0000e+00, -3.0391e+00, -5.6491e+00,\n",
      "        -1.7402e+00, -7.2925e-01,  9.1169e+00,  6.8345e+00,  1.1369e-13,\n",
      "        -4.1567e+00,  2.6498e+01, -2.5389e+00, -4.8746e+00, -6.0883e+00,\n",
      "        -2.5635e+01,  2.5842e+00, -9.2837e-01,  4.9101e+00,  9.3893e-01,\n",
      "        -4.4265e+00,  1.2370e+00,  6.2587e+00, -4.0598e+00,  2.0050e+00,\n",
      "         4.2883e+00,  4.4735e+00, -3.4860e+00,  3.5265e+00,  2.9254e-02,\n",
      "         1.1887e+00,  8.5973e-02, -8.2872e+00,  2.0859e+01, -6.0556e+00,\n",
      "        -2.0317e+01,  1.9095e+00, -1.1705e+00, -4.4751e+00, -8.3440e-01,\n",
      "         4.7235e+00,  4.4107e+00, -4.1344e+00, -2.3000e+00,  6.9099e+00,\n",
      "         2.3563e+00, -6.7669e+00, -5.5808e+00, -1.4909e+00, -1.3579e+00,\n",
      "        -2.5035e+00, -6.0402e+00,  5.8835e+00,  1.6205e+00, -5.4207e-01,\n",
      "         1.5990e+00,  5.9090e-01], dtype=torch.float64), 'gbest_value': 229.5152662078095, 'c1': 2, 'c2': 2}\n"
     ]
    }
   ],
   "source": [
    "print(empso.run(verbosity=True).__dict__)"
   ]
  },
  {
   "cell_type": "code",
   "execution_count": 5,
   "metadata": {},
   "outputs": [
    {
     "name": "stdout",
     "output_type": "stream",
     "text": [
      "[9.85994668e+01 4.98910660e+01 2.51191370e+01 6.47377231e-06\n",
      " 6.96901347e-06 2.71118856e-05]\n",
      "304.0774227402238\n"
     ]
    }
   ],
   "source": [
    "pp.runopp(net)\n",
    "\n",
    "cost_pp = net['res_cost']\n",
    "gen_pp = np.array(list(net['res_gen'].p_mw) + list(net['res_ext_grid'].p_mw))\n",
    "print(gen_pp)\n",
    "print(cost_pp)"
   ]
  },
  {
   "cell_type": "code",
   "execution_count": 6,
   "metadata": {},
   "outputs": [],
   "source": [
    "# display(value(empso.gbest_particle.model.UC))\n",
    "def extract_values(name):    \n",
    "    for k in empso.gbest_particle.model.component_objects(Var):\n",
    "        if k.name == name:\n",
    "            output = k.get_values()\n",
    "    return output\n",
    "UC_vals=extract_values('UC')            \n",
    "Pg_vals=extract_values('Pg')  \n",
    "obj_pyomo = empso.gbest_particle.model.obj()"
   ]
  },
  {
   "cell_type": "code",
   "execution_count": 7,
   "metadata": {},
   "outputs": [
    {
     "name": "stdout",
     "output_type": "stream",
     "text": [
      "CNO\n",
      "{1: 1.0, 21: 1.0, 26: 1.0, 22: 1.0, 12: 1.0, 0: 1.0}\n",
      "{1: 74.00872358571962, 21: 100.00000000636875, 26: -8.24916085034676e-09, 22: -7.9084920854786e-09, 12: -7.902826501376846e-09, 0: 3.3757139504075293e-10}\n",
      "229.5152662078095\n"
     ]
    }
   ],
   "source": [
    "print(\"CNO\")\n",
    "print(UC_vals)\n",
    "print(Pg_vals)\n",
    "print(obj_pyomo)"
   ]
  },
  {
   "cell_type": "code",
   "execution_count": 8,
   "metadata": {},
   "outputs": [
    {
     "name": "stdout",
     "output_type": "stream",
     "text": [
      "PP\n",
      "[9.85994668e+01 4.98910660e+01 2.51191370e+01 6.47377231e-06\n",
      " 6.96901347e-06 2.71118856e-05]\n",
      "304.0774227402238\n"
     ]
    }
   ],
   "source": [
    "print(\"PP\")\n",
    "print(gen_pp)\n",
    "print(cost_pp)"
   ]
  }
 ],
 "metadata": {
  "interpreter": {
   "hash": "77212c9c7dfa059e7005ac4dedc8f8213b412dba185f3315d126747c6b87e238"
  },
  "kernelspec": {
   "display_name": "Python 3.10.4 ('cno_acopf')",
   "language": "python",
   "name": "python3"
  },
  "language_info": {
   "codemirror_mode": {
    "name": "ipython",
    "version": 3
   },
   "file_extension": ".py",
   "mimetype": "text/x-python",
   "name": "python",
   "nbconvert_exporter": "python",
   "pygments_lexer": "ipython3",
   "version": "3.10.4"
  },
  "orig_nbformat": 4
 },
 "nbformat": 4,
 "nbformat_minor": 2
}
